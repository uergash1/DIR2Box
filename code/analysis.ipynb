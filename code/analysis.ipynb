{
 "cells": [
  {
   "cell_type": "code",
   "execution_count": 6,
   "id": "9e02eb96-5a45-425c-acdd-1801eee5e6cd",
   "metadata": {},
   "outputs": [],
   "source": [
    "import os\n",
    "import numpy as np\n",
    "import matplotlib.pyplot as plt"
   ]
  },
  {
   "cell_type": "code",
   "execution_count": 7,
   "id": "7c18ce57-1b73-4c6c-a661-cd36de466bae",
   "metadata": {},
   "outputs": [],
   "source": [
    "llm = 'fine-tuned-MultipleNegativesRankingLoss'\n",
    "#llm = 'fine-tuned-mpnet'"
   ]
  },
  {
   "cell_type": "code",
   "execution_count": 8,
   "id": "5b6af096-d27e-4755-96d6-93812391b525",
   "metadata": {},
   "outputs": [],
   "source": [
    "def get_result(config, folds=5):\n",
    "    result = {}\n",
    "    for fold in range(folds):  \n",
    "        if os.path.exists(f'logs/{llm}/{config}_fold{fold}.txt'):\n",
    "            result[fold] = {'train loss': [], 'train ndcg': [], 'test ndcg': [], 'train prec': [], 'test prec': []}\n",
    "            with open(f'logs/{llm}/{config}_fold{fold}.txt', 'r') as f:\n",
    "                for line in f:\n",
    "                    terms = [float(x) for x in line.split()]\n",
    "                    result[fold]['train loss'].append(terms[0])\n",
    "                    result[fold]['train ndcg'].append(terms[1:5])\n",
    "                    result[fold]['test ndcg'].append(terms[5:9])\n",
    "                    result[fold]['train prec'].append(terms[9:13])\n",
    "                    result[fold]['test prec'].append(terms[13:17])\n",
    "    return result"
   ]
  },
  {
   "cell_type": "code",
   "execution_count": 9,
   "id": "65217d58-525b-499d-a388-a659fc575f36",
   "metadata": {},
   "outputs": [],
   "source": [
    "def get_best_config(results, folds=5, epoch=40):\n",
    "    best_result = (-1, None, None, None)\n",
    "\n",
    "    for config in results.keys():\n",
    "        ndcg = np.array([results[config][fold]['test ndcg'][epoch-1] for fold in range(folds)])\n",
    "        prec = np.array([results[config][fold]['test prec'][epoch-1] for fold in range(folds)])\n",
    "        \n",
    "        ndcg = np.mean(ndcg, 0)\n",
    "        prec = np.mean(prec, 0)\n",
    "        \n",
    "        #if np.mean(ndcg) + np.mean(prec) > best_result[0]:\n",
    "        #    best_result = (np.mean(ndcg) + np.mean(prec), config, ndcg, prec)\n",
    "        \n",
    "        #if ndcg[0] + prec[0] > best_result[0]:\n",
    "        #    best_result = (ndcg[0] + prec[0], config, ndcg, prec)\n",
    "        if ndcg[0] > best_result[0]:\n",
    "            best_result = (ndcg[0], config, ndcg, prec)\n",
    "        \n",
    "    return best_result[1], best_result[2], best_result[3]"
   ]
  },
  {
   "cell_type": "code",
   "execution_count": 10,
   "id": "a900448e-baf5-4e45-81cf-ebde2f383401",
   "metadata": {},
   "outputs": [],
   "source": [
    "def get_best_config_epoch(results, folds=5):\n",
    "    best_result = (-1, None, None, None)\n",
    "\n",
    "    for config in results.keys():\n",
    "        if len(results[config][4]['test ndcg']) != 5:\n",
    "            continue\n",
    "        for epoch in range(1,6):\n",
    "            ndcg = np.array([results[config][fold]['test ndcg'][epoch-1] for fold in range(folds)])\n",
    "            prec = np.array([results[config][fold]['test prec'][epoch-1] for fold in range(folds)])\n",
    "\n",
    "            ndcg = np.mean(ndcg, 0)\n",
    "            prec = np.mean(prec, 0)\n",
    "\n",
    "            score = ndcg[0]\n",
    "            if score > best_result[0]:\n",
    "                best_result = (score, config, ndcg, prec, epoch)\n",
    "            \n",
    "            \n",
    "            \n",
    "    return best_result[1], best_result[2], best_result[3], best_result[4]"
   ]
  },
  {
   "cell_type": "code",
   "execution_count": 13,
   "id": "b09478c4-daa7-4253-a0de-8bbf6621f5b9",
   "metadata": {},
   "outputs": [],
   "source": [
    "dataset = 'clueweb09b_123'\n",
    "dataset = 'gov2'\n",
    "dataset = 'clueweb09b_100'\n",
    "dataset = 'fedweb14'\n",
    "folds = 5\n",
    "\n",
    "loss_type = 'hinge'\n",
    "use_gnn = 1\n",
    "bias = 1\n",
    "version = 3\n",
    "num_doc = 100\n",
    "\n",
    "config_list = []\n",
    "\n",
    "for learning_rate in [0.00005, 0.00001]:\n",
    "    for weight_decay in [0.001, 0.0001, 0.00001]:\n",
    "        for dim in [512]:\n",
    "            for gamma in [0.0, 0.1, 0.5, 1.0, 5.0]:\n",
    "                _config = f'{dataset}_lr{learning_rate}_wd{weight_decay}_dim{dim}_gamma{gamma}_bias{bias}_loss-{loss_type}'\n",
    "\n",
    "                if loss_type == 'hinge':\n",
    "                    for delta in [0.5, 1.0, 5.0, 10.0]: \n",
    "                        if use_gnn:\n",
    "                            for thresh in [0.1, 0.5, 0.9]:\n",
    "                                config = _config + f'_delta{delta}_gnn{thresh}'\n",
    "                                config_list.append(config + f'_ver{version}_doc{num_doc}')\n",
    "                        else:\n",
    "                            config = _config + f'_delta{delta}'\n",
    "                            config_list.append(config + f'_ver{version}_doc{num_doc}')\n",
    "                elif use_gnn:\n",
    "                    for thresh in [0.1, 0.5, 0.9]:\n",
    "                        config = _config + f'_gnn{thresh}'\n",
    "                        config_list.append(config + f'_ver{version}_doc{num_doc}')\n",
    "                else:\n",
    "                    config = _config\n",
    "                    config_list.append(config + f'_ver{version}_doc{num_doc}')"
   ]
  },
  {
   "cell_type": "code",
   "execution_count": 14,
   "id": "2ec9e04b-e695-452b-a44b-aa1851599697",
   "metadata": {},
   "outputs": [
    {
     "name": "stdout",
     "output_type": "stream",
     "text": [
      "Completed: 360 / 360\n",
      "fedweb14_lr1e-05_wd0.001_dim512_gamma0.1_bias1_loss-hinge_delta10.0_gnn0.1_ver3_doc100\n",
      "best epoch 4\n",
      "0.8114740381550943 0.7834170121903298 0.790323666469888 0.8137388117770378 0.8114740381550941 0.7845149526436065 0.7953821652415054 0.842973670536298\n",
      "[0.81147404 0.78341701 0.79032367 0.81373881] 0.7997383821480876\n",
      "[0.81147404 0.78451495 0.79538217 0.84297367] 0.8085862066441261\n",
      "\n"
     ]
    }
   ],
   "source": [
    "results = {}\n",
    "\n",
    "completed = []\n",
    "\n",
    "for config in config_list:\n",
    "    result = get_result(config, folds)\n",
    "    if len(result) == folds:\n",
    "        completed.append(1)\n",
    "        results[config] = result\n",
    "    else:\n",
    "        completed.append(0)\n",
    "        \n",
    "print(f'Completed: {sum(completed)} / {len(completed)}')\n",
    "\n",
    "#epoch=5\n",
    "best_config, best_ndcg, best_prec, best_epoch = get_best_config_epoch(results)\n",
    "#best_config, best_ndcg, best_prec = get_best_config(results, epoch=epoch)\n",
    "\n",
    "print(best_config)\n",
    "print('best epoch', best_epoch)\n",
    "print(' '.join([str(x) for x in best_ndcg.tolist() + best_prec.tolist()]))\n",
    "print(best_ndcg, np.mean(best_ndcg))\n",
    "print(best_prec, np.mean(best_prec))\n",
    "print()"
   ]
  },
  {
   "cell_type": "code",
   "execution_count": 23,
   "id": "e01d6612-f56b-47b8-bdd6-ae738a93357a",
   "metadata": {},
   "outputs": [
    {
     "data": {
      "image/png": "[encoded data removed]",
      "text/plain": [
       "<Figure size 432x288 with 1 Axes>"
      ]
     },
     "metadata": {
      "needs_background": "light"
     },
     "output_type": "display_data"
    }
   ],
   "source": [
    "test_ndcg_5 = np.mean([[result[1] for result in results[best_config][fold]['test ndcg']] for fold in range(5)], 0)\n",
    "plt.plot(test_ndcg_5)\n",
    "plt.show()"
   ]
  },
  {
   "cell_type": "code",
   "execution_count": 574,
   "id": "181830ee-cf9d-4443-9171-e4a34eac4a47",
   "metadata": {},
   "outputs": [],
   "source": [
    "logs = []\n",
    "\n",
    "for fold in range(5):\n",
    "    with open(f'ranks/{llm}/{best_config}_epoch{best_epoch-1}_fold{fold}.txt', 'r') as f:\n",
    "        for line in f:\n",
    "            logs.append(line)\n",
    "            \n",
    "with open(f'{dataset}_result.txt', 'w') as f:\n",
    "    for line in logs:\n",
    "        f.write(line)"
   ]
  },
  {
   "cell_type": "code",
   "execution_count": 84,
   "id": "6c64d147-4577-4adc-9406-3fe8931461e8",
   "metadata": {},
   "outputs": [
    {
     "ename": "KeyError",
     "evalue": "'gov2_lr5e-05_wd1e-05_dim512_gamma1.0_bias1_loss-hinge_delta10.0_gnn0.9_ver3_doc100'",
     "output_type": "error",
     "traceback": [
      "\u001b[0;31m---------------------------------------------------------------------------\u001b[0m",
      "\u001b[0;31mKeyError\u001b[0m                                  Traceback (most recent call last)",
      "\u001b[0;32m/tmp/ipykernel_30173/1391905425.py\u001b[0m in \u001b[0;36m<module>\u001b[0;34m\u001b[0m\n\u001b[0;32m----> 1\u001b[0;31m \u001b[0mresults\u001b[0m\u001b[0;34m[\u001b[0m\u001b[0mconfig\u001b[0m\u001b[0;34m]\u001b[0m\u001b[0;34m[\u001b[0m\u001b[0;36m0\u001b[0m\u001b[0;34m]\u001b[0m\u001b[0;34m[\u001b[0m\u001b[0;34m'train ndcg'\u001b[0m\u001b[0;34m]\u001b[0m\u001b[0;34m\u001b[0m\u001b[0;34m\u001b[0m\u001b[0m\n\u001b[0m",
      "\u001b[0;31mKeyError\u001b[0m: 'gov2_lr5e-05_wd1e-05_dim512_gamma1.0_bias1_loss-hinge_delta10.0_gnn0.9_ver3_doc100'"
     ]
    }
   ],
   "source": [
    "results[config][0]['train ndcg']"
   ]
  },
  {
   "cell_type": "code",
   "execution_count": null,
   "id": "80e6c318-7695-49d0-99e5-2febb7053f3c",
   "metadata": {},
   "outputs": [],
   "source": []
  }
 ],
 "metadata": {
  "kernelspec": {
   "display_name": "Python 3 (ipykernel)",
   "language": "python",
   "name": "python3"
  },
  "language_info": {
   "codemirror_mode": {
    "name": "ipython",
    "version": 3
   },
   "file_extension": ".py",
   "mimetype": "text/x-python",
   "name": "python",
   "nbconvert_exporter": "python",
   "pygments_lexer": "ipython3",
   "version": "3.7.11"
  }
 },
 "nbformat": 4,
 "nbformat_minor": 5
}
